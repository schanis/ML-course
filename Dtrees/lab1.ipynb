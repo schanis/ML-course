{
 "cells": [
  {
   "cell_type": "code",
   "execution_count": 1,
   "metadata": {},
   "outputs": [],
   "source": [
    "import monkdata as m\n",
    "import dtree as dtree\n",
    "import pandas as pd\n",
    "import drawtree_qt5 as qt5\n",
    "import random\n",
    "def partition(data, fraction):\n",
    "    ldata = list(data)\n",
    "    random.shuffle(ldata)\n",
    "    breakPoint = int(len(ldata)*fraction)\n",
    "    return ldata[:breakPoint], ldata[breakPoint:]\n",
    "import math\n",
    "import matplotlib.pyplot as plt\n",
    "import numpy as np"
   ]
  },
  {
   "cell_type": "code",
   "execution_count": 2,
   "metadata": {},
   "outputs": [
    {
     "name": "stdout",
     "output_type": "stream",
     "text": [
      "Attribute\n",
      "Sample\n",
      "__builtins__\n",
      "__cached__\n",
      "__doc__\n",
      "__file__\n",
      "__loader__\n",
      "__name__\n",
      "__package__\n",
      "__spec__\n",
      "attributes\n",
      "monk1\n",
      "monk1test\n",
      "monk2\n",
      "monk2test\n",
      "monk3\n",
      "monk3test\n"
     ]
    }
   ],
   "source": [
    "for i in dir(m):\n",
    "    print (i)"
   ]
  },
  {
   "cell_type": "code",
   "execution_count": 3,
   "metadata": {},
   "outputs": [
    {
     "name": "stdout",
     "output_type": "stream",
     "text": [
      "TreeLeaf\n",
      "TreeNode\n",
      "__builtins__\n",
      "__cached__\n",
      "__doc__\n",
      "__file__\n",
      "__loader__\n",
      "__name__\n",
      "__package__\n",
      "__spec__\n",
      "allNegative\n",
      "allPositive\n",
      "allPruned\n",
      "averageGain\n",
      "bestAttribute\n",
      "buildTree\n",
      "check\n",
      "classify\n",
      "entropy\n",
      "log2\n",
      "math\n",
      "mostCommon\n",
      "select\n"
     ]
    }
   ],
   "source": [
    "for a in dir(dtree):\n",
    "    print(a)"
   ]
  },
  {
   "cell_type": "code",
   "execution_count": 4,
   "metadata": {},
   "outputs": [],
   "source": [
    "# Prepare training sets\n",
    "# Monk 1\n",
    "dfmonk1 = pd.DataFrame([x.attribute for x in m.monk1])\n",
    "dfmonk1['Response'] = ([x.positive for x in m.monk1])\n",
    "dfmonk1['ID'] = ([x.identity for x in m.monk1])\n",
    "\n",
    "# Monk 2\n",
    "dfmonk2 = pd.DataFrame ([x.attribute for x in m.monk2])\n",
    "dfmonk2['Response'] = ([x.positive for x in m.monk2])\n",
    "dfmonk2['ID'] = ([x.identity for x in m.monk2])\n",
    "\n",
    "# Monk 3\n",
    "dfmonk3 = pd.DataFrame ([x.attribute for x in m.monk3])\n",
    "dfmonk3['Response']= ([x.positive for x in m.monk3])\n",
    "dfmonk3['ID'] = ([x.identity for x in m.monk3])"
   ]
  },
  {
   "cell_type": "code",
   "execution_count": 5,
   "metadata": {},
   "outputs": [],
   "source": [
    "# Prepare testing sets\n",
    "# Monk 1 test\n",
    "dfmonk1test = pd.DataFrame ([x.attribute for x in m.monk1test])\n",
    "dfmonk1test['Response'] = ([x.positive for x in m.monk1test])\n",
    "dfmonk1test['ID'] = ([x.identity for x in m.monk1test])\n",
    "\n",
    "# Monk 2 test\n",
    "dfmonk2test = pd.DataFrame ([x.attribute for x in m.monk2test])\n",
    "dfmonk2test['Response'] = ([x.positive for x in m.monk2test])\n",
    "dfmonk2test['ID'] = ([x.identity for x in m.monk2test])\n",
    "\n",
    "# Monk 3 test\n",
    "dfmonk3test = pd.DataFrame ([x.attribute for x in m.monk3test])\n",
    "dfmonk3test['Response']= ([x.positive for x in m.monk3test])\n",
    "dfmonk3test['ID'] = ([x.identity for x in m.monk3test])"
   ]
  },
  {
   "cell_type": "code",
   "execution_count": 6,
   "metadata": {},
   "outputs": [
    {
     "name": "stdout",
     "output_type": "stream",
     "text": [
      "entropy monk1: 1.0\n",
      "m1infoGainA1: 0.07527255560831925\n",
      "m1infoGainA2: 0.005838429962909286\n",
      "m1infoGainA3: 0.00470756661729721\n",
      "m1infoGainA4: 0.02631169650768228\n",
      "m1infoGainA5: 0.28703074971578435\n",
      "m1infoGainA6: 0.0007578557158638421\n"
     ]
    }
   ],
   "source": [
    "print('entropy monk1:', dtree.entropy(m.monk1))\n",
    "print('m1infoGainA1:', dtree.averageGain(m.monk1, m.attributes[0]))\n",
    "print('m1infoGainA2:', dtree.averageGain(m.monk1, m.attributes[1]))\n",
    "print('m1infoGainA3:', dtree.averageGain(m.monk1, m.attributes[2]))\n",
    "print('m1infoGainA4:', dtree.averageGain(m.monk1, m.attributes[3]))\n",
    "print('m1infoGainA5:', dtree.averageGain(m.monk1, m.attributes[4]))\n",
    "print('m1infoGainA6:', dtree.averageGain(m.monk1, m.attributes[5]))"
   ]
  },
  {
   "cell_type": "code",
   "execution_count": 7,
   "metadata": {},
   "outputs": [],
   "source": [
    "# Subsetting data monk1 if a5 = 1\n",
    "monk1a51 = dtree.select(m.monk1, m.attributes[4], 1)\n",
    "# Make a df to see\n",
    "dfmonk1a51 = pd.DataFrame ([x.attribute for x in monk1a51])\n",
    "dfmonk1a51['Response'] = ([x.positive for x in monk1a51])\n",
    "dfmonk1a51['ID'] = ([x.identity for x in monk1a51])\n",
    "#dfmonk1a51.head()\n",
    "# If a5=1 then response = TRUE"
   ]
  },
  {
   "cell_type": "code",
   "execution_count": 8,
   "metadata": {},
   "outputs": [
    {
     "name": "stdout",
     "output_type": "stream",
     "text": [
      "m1a52InfoGainA1: 0.040216841609413634\n",
      "m1a52InfoGainA2: 0.015063475072186083\n",
      "m1a52InfoGainA3: 0.03727262736015946\n",
      "m1a52InfoGainA4: 0.04889220262952931\n",
      "m1a52InfoGainA6: 0.025807284723902146\n"
     ]
    }
   ],
   "source": [
    "# subsetting monk 1 if a5=2\n",
    "monk1a52 = dtree.select(m.monk1, m.attributes[4],2)\n",
    "# Make it a df\n",
    "dfmonk1a52 = pd.DataFrame ([x.attribute for x in monk1a52])\n",
    "dfmonk1a52['Response'] = ([x.positive for x in monk1a52])\n",
    "dfmonk1a52['ID'] = ([x.identity for x in monk1a52])\n",
    "#dfmonk1a52.head()\n",
    "\n",
    "# Calculating infomation gain for monk1a52\n",
    "print('m1a52InfoGainA1:', dtree.averageGain(monk1a52, m.attributes[0]))\n",
    "print('m1a52InfoGainA2:', dtree.averageGain(monk1a52, m.attributes[1]))\n",
    "print('m1a52InfoGainA3:', dtree.averageGain(monk1a52, m.attributes[2]))\n",
    "print('m1a52InfoGainA4:', dtree.averageGain(monk1a52, m.attributes[3]))\n",
    "print('m1a52InfoGainA6:', dtree.averageGain(monk1a52, m.attributes[5]))"
   ]
  },
  {
   "cell_type": "code",
   "execution_count": 9,
   "metadata": {},
   "outputs": [
    {
     "name": "stdout",
     "output_type": "stream",
     "text": [
      "m1a53infoGainA1: 0.03305510013455182\n",
      "m1a53infoGainA2: 0.002197183539100922\n",
      "m1a53infoGainA3: 0.017982293842278896\n",
      "m1a53infoGainA4: 0.01912275517747053\n",
      "m1a53infoGainA6: 0.04510853782483648\n"
     ]
    }
   ],
   "source": [
    "# subsetting monk 1 if a5=3\n",
    "monk1a53 = dtree.select(m.monk1, m.attributes[4],3)\n",
    "# Make it a df\n",
    "dfmonk1a53 = pd.DataFrame ([x.attribute for x in monk1a53])\n",
    "dfmonk1a53['Response'] = ([x.positive for x in monk1a53])\n",
    "dfmonk1a53['ID'] = ([x.identity for x in monk1a53])\n",
    "#dfmonk1a53\n",
    "\n",
    "# If A5 = 3, calculate information gain if splitting by other variables\n",
    "print('m1a53infoGainA1:', dtree.averageGain(monk1a53, m.attributes[0]))\n",
    "print('m1a53infoGainA2:', dtree.averageGain(monk1a53, m.attributes[1]))\n",
    "print('m1a53infoGainA3:', dtree.averageGain(monk1a53, m.attributes[2]))\n",
    "print('m1a53infoGainA4:', dtree.averageGain(monk1a53, m.attributes[3]))\n",
    "print('m1a53infoGainA6:', dtree.averageGain(monk1a53, m.attributes[5]))"
   ]
  },
  {
   "cell_type": "code",
   "execution_count": 10,
   "metadata": {},
   "outputs": [
    {
     "name": "stdout",
     "output_type": "stream",
     "text": [
      "m1a54infoGainA1: 0.20629074641530198\n",
      "m1a54infoGainA2: 0.033898395077640586\n",
      "m1a54infoGainA3: 0.025906145434984817\n",
      "m1a54infoGainA4: 0.07593290844153944\n",
      "m1a54infoGainA6: 0.0033239629631565126\n"
     ]
    }
   ],
   "source": [
    "# subsetting monk 1 if a5=4\n",
    "monk1a54 = dtree.select(m.monk1, m.attributes[4],4)\n",
    "# Make it a df\n",
    "dfmonk1a54 = pd.DataFrame ([x.attribute for x in monk1a54])\n",
    "dfmonk1a54['Response'] = ([x.positive for x in monk1a54])\n",
    "dfmonk1a54['ID'] = ([x.identity for x in monk1a54])\n",
    "#dfmonk1a54.head()\n",
    "\n",
    "# If A5=4, calculate information gain for monk1a54\n",
    "print('m1a54infoGainA1:', dtree.averageGain(monk1a54, m.attributes[0]))\n",
    "print('m1a54infoGainA2:', dtree.averageGain(monk1a54, m.attributes[1]))\n",
    "print('m1a54infoGainA3:', dtree.averageGain(monk1a54, m.attributes[2]))\n",
    "print('m1a54infoGainA4:', dtree.averageGain(monk1a54, m.attributes[3]))     \n",
    "print('m1a54infoGainA6:', dtree.averageGain(monk1a54, m.attributes[5]))"
   ]
  },
  {
   "cell_type": "code",
   "execution_count": 11,
   "metadata": {},
   "outputs": [
    {
     "name": "stdout",
     "output_type": "stream",
     "text": [
      "Most common a5=2 a4=1: False\n",
      "Most common a5=2 a4=2: False\n",
      "Most common a5=2 a4=3: False\n"
     ]
    }
   ],
   "source": [
    "# If A5 = 2, split dataset monk1a52 based on A4\n",
    "# A4=1\n",
    "monk1a52a41 = dtree.select(monk1a52, m.attributes[3], 1)\n",
    "print('Most common a5=2 a4=1:', dtree.mostCommon(monk1a52a41))\n",
    "# A4=2\n",
    "monk1a52a42 = dtree.select(monk1a52, m.attributes[3], 2)\n",
    "print('Most common a5=2 a4=2:', dtree.mostCommon(monk1a52a42))\n",
    "# A4=3\n",
    "monk1a52a43 = dtree.select(monk1a52, m.attributes[3], 2)\n",
    "print('Most common a5=2 a4=3:', dtree.mostCommon(monk1a52a43))"
   ]
  },
  {
   "cell_type": "code",
   "execution_count": 12,
   "metadata": {},
   "outputs": [
    {
     "name": "stdout",
     "output_type": "stream",
     "text": [
      "Most common a5=3 a6=1: False\n",
      "Most common a5=3 a6=2: False\n"
     ]
    }
   ],
   "source": [
    "# If A5 = 3, split dataset monk1a53 based on A6\n",
    "# A6=1\n",
    "monk1a53a61 = dtree.select(monk1a53, m.attributes[5], 1)\n",
    "print('Most common a5=3 a6=1:', dtree.mostCommon(monk1a53a61))\n",
    "# A6=2\n",
    "monk1a53a62 = dtree.select(monk1a53, m.attributes[5], 2)\n",
    "print('Most common a5=3 a6=2:', dtree.mostCommon(monk1a53a62))"
   ]
  },
  {
   "cell_type": "code",
   "execution_count": 13,
   "metadata": {},
   "outputs": [
    {
     "name": "stdout",
     "output_type": "stream",
     "text": [
      "Most common a5=4 a1=1: False\n",
      "Most common a5=4 a1=2: False\n",
      "Most common a5=4 a1=3: True\n"
     ]
    }
   ],
   "source": [
    "# If A5 =4, split dataset monk1a54 based on A1\n",
    "# A1=1\n",
    "monk1a54a11 = dtree.select(monk1a54, m.attributes[0], 1)\n",
    "print('Most common a5=4 a1=1:', dtree.mostCommon(monk1a54a11))\n",
    "# A1=2\n",
    "monk1a54a12 = dtree.select(monk1a54, m.attributes[0], 2)\n",
    "print('Most common a5=4 a1=2:', dtree.mostCommon(monk1a54a12))\n",
    "# A1=3\n",
    "monk1a54a13 = dtree.select(monk1a54, m.attributes[0], 3)\n",
    "print('Most common a5=4 a1=3:', dtree.mostCommon(monk1a54a13))"
   ]
  },
  {
   "cell_type": "code",
   "execution_count": 14,
   "metadata": {},
   "outputs": [],
   "source": [
    "# Build the tree for monk 1\n",
    "tree1 = dtree.buildTree(m.monk1, m.attributes, maxdepth=2)\n",
    "tree2 = dtree.buildTree(m.monk2, m.attributes, maxdepth=2)\n",
    "tree3 = dtree.buildTree(m.monk3, m.attributes, maxdepth=2)"
   ]
  },
  {
   "cell_type": "code",
   "execution_count": 15,
   "metadata": {},
   "outputs": [],
   "source": [
    "#qt5.drawTree(tree1)\n",
    "#qt5.drawTree(tree2)\n",
    "#qt5.drawTree(tree3)"
   ]
  },
  {
   "cell_type": "code",
   "execution_count": 16,
   "metadata": {},
   "outputs": [
    {
     "name": "stdout",
     "output_type": "stream",
     "text": [
      "entropy monk2: 0.957117428264771\n",
      "m2infoGainA1: 0.0037561773775118823\n",
      "m2infoGainA2: 0.0024584986660830532\n",
      "m2infoGainA3: 0.0010561477158920196\n",
      "m2infoGainA4: 0.015664247292643818\n",
      "m2infoGainA5: 0.01727717693791797\n",
      "m2infoGainA6: 0.006247622236881467\n"
     ]
    }
   ],
   "source": [
    "# Monk 2\n",
    "print('entropy monk2:', dtree.entropy(m.monk2))\n",
    "print('m2infoGainA1:', dtree.averageGain(m.monk2, m.attributes[0]))\n",
    "print('m2infoGainA2:', dtree.averageGain(m.monk2, m.attributes[1]))\n",
    "print('m2infoGainA3:', dtree.averageGain(m.monk2, m.attributes[2]))\n",
    "print('m2infoGainA4:', dtree.averageGain(m.monk2, m.attributes[3]))\n",
    "print('m2infoGainA5:', dtree.averageGain(m.monk2, m.attributes[4]))\n",
    "print('m2infoGainA6:', dtree.averageGain(m.monk2, m.attributes[5]))"
   ]
  },
  {
   "cell_type": "code",
   "execution_count": 17,
   "metadata": {},
   "outputs": [
    {
     "name": "stdout",
     "output_type": "stream",
     "text": [
      "m2a51infoGainA1: 0.04568558884232954\n",
      "m2a51infoGainA2: 0.07852046603700313\n",
      "m2a51infoGainA3: 0.18019206765733198\n",
      "m2a51infoGainA4: 0.14012525876155524\n",
      "m2a51infoGainA6: 0.004758863503822819\n"
     ]
    }
   ],
   "source": [
    "# Subsetting monk2 if A5=1\n",
    "monk2a51 = dtree.select (m.monk2, m.attributes[4], 1)\n",
    "# Make a df\n",
    "dfmonk2a51 = pd.DataFrame ([x.attribute for x in monk2a51])\n",
    "dfmonk2a51['Response'] = ([x.positive for x in monk2a51])\n",
    "dfmonk2a51['ID'] = ([x.identity for x in monk2a51])\n",
    "#dfmonk2a51\n",
    "\n",
    "# If a5 = 1, calculate information gain for monk2a51\n",
    "print('m2a51infoGainA1:', dtree.averageGain(monk2a51, m.attributes[0]))\n",
    "print('m2a51infoGainA2:', dtree.averageGain(monk2a51, m.attributes[1]))\n",
    "print('m2a51infoGainA3:', dtree.averageGain(monk2a51, m.attributes[2]))\n",
    "print('m2a51infoGainA4:', dtree.averageGain(monk2a51, m.attributes[3]))\n",
    "print('m2a51infoGainA6:', dtree.averageGain(monk2a51, m.attributes[5]))"
   ]
  },
  {
   "cell_type": "code",
   "execution_count": 18,
   "metadata": {},
   "outputs": [
    {
     "name": "stdout",
     "output_type": "stream",
     "text": [
      "Monk2 common a5=1 a3=1: False\n",
      "Monk2 common a5=1 a3=2: True\n"
     ]
    }
   ],
   "source": [
    "# If A5=1 then split data monk2a51 based on A3\n",
    "# A3=1\n",
    "monk2a51a31 = dtree.select (monk2a51, m.attributes[2], 1)\n",
    "print('Monk2 common a5=1 a3=1:', dtree.mostCommon(monk2a51a31))\n",
    "# A3=2\n",
    "monk2a51a32 = dtree.select (monk2a51, m.attributes[2], 2)\n",
    "print('Monk2 common a5=1 a3=2:', dtree.mostCommon(monk2a51a32))"
   ]
  },
  {
   "cell_type": "code",
   "execution_count": 19,
   "metadata": {},
   "outputs": [
    {
     "name": "stdout",
     "output_type": "stream",
     "text": [
      "m2a52infoGainA1: 0.0025917160792854332\n",
      "m2a52infoGainA2: 0.03246619413891627\n",
      "m2a52infoGainA3: 0.04568655412773026\n",
      "m2a52infoGainA4: 0.02583694331432318\n",
      "m2a52infoGainA6: 0.007299156760473879\n"
     ]
    }
   ],
   "source": [
    "# Subsetting monk2 if A5=2\n",
    "monk2a52 = dtree.select (m.monk2, m.attributes[4], 2)\n",
    "# If A5=2, calculate information gain form monk2a52\n",
    "print('m2a52infoGainA1:', dtree.averageGain(monk2a52, m.attributes[0]))\n",
    "print('m2a52infoGainA2:', dtree.averageGain(monk2a52, m.attributes[1]))\n",
    "print('m2a52infoGainA3:', dtree.averageGain(monk2a52, m.attributes[2]))\n",
    "print('m2a52infoGainA4:', dtree.averageGain(monk2a52, m.attributes[3]))\n",
    "print('m2a52infoGainA6:', dtree.averageGain(monk2a52, m.attributes[5]))"
   ]
  },
  {
   "cell_type": "code",
   "execution_count": 20,
   "metadata": {},
   "outputs": [
    {
     "name": "stdout",
     "output_type": "stream",
     "text": [
      "Monk2 common a5=2 a3=1: True\n",
      "Monk2 common a5=2 a3=2: False\n"
     ]
    }
   ],
   "source": [
    "# if A5=2 then split data monk2a52 based on A3\n",
    "# A3=1\n",
    "monk2a52a31 = dtree.select (monk2a52, m.attributes[2], 1)\n",
    "print('Monk2 common a5=2 a3=1:', dtree.mostCommon(monk2a52a31))\n",
    "# A3=2\n",
    "monk2a52a32 = dtree.select (monk2a52, m.attributes[2], 2)\n",
    "print('Monk2 common a5=2 a3=2:', dtree.mostCommon(monk2a52a32))"
   ]
  },
  {
   "cell_type": "code",
   "execution_count": 21,
   "metadata": {},
   "outputs": [
    {
     "name": "stdout",
     "output_type": "stream",
     "text": [
      "m2a53infoGainA1: 0.0009275662527292727\n",
      "m2a53infoGainA2: 0.01018030464145403\n",
      "m2a53infoGainA3: 0.033315179969284237\n",
      "m2a53infoGainA4: 0.0020353965560002685\n",
      "m2a53infoGainA6: 0.0042969336785237955\n"
     ]
    }
   ],
   "source": [
    "# Subsetting monk2 if A5=3\n",
    "monk2a53 = dtree.select (m.monk2, m.attributes[4], 3)\n",
    "# If A5=3, calculate information gain form monk2a53\n",
    "print('m2a53infoGainA1:', dtree.averageGain(monk2a53, m.attributes[0]))\n",
    "print('m2a53infoGainA2:', dtree.averageGain(monk2a53, m.attributes[1]))\n",
    "print('m2a53infoGainA3:', dtree.averageGain(monk2a53, m.attributes[2]))\n",
    "print('m2a53infoGainA4:', dtree.averageGain(monk2a53, m.attributes[3]))\n",
    "print('m2a53infoGainA6:', dtree.averageGain(monk2a53, m.attributes[5]))"
   ]
  },
  {
   "cell_type": "code",
   "execution_count": 22,
   "metadata": {},
   "outputs": [
    {
     "name": "stdout",
     "output_type": "stream",
     "text": [
      "Monk2 common a5=3 a3=1: False\n",
      "Monk2 common a5=3 a3=2: False\n"
     ]
    }
   ],
   "source": [
    "# If A5=3 then split data monk2a53 based on A3\n",
    "# A3=1\n",
    "monk2a53a31 = dtree.select (monk2a53, m.attributes[2], 1)\n",
    "print('Monk2 common a5=3 a3=1:', dtree.mostCommon(monk2a53a31))\n",
    "# A3=2\n",
    "monk2a53a32 = dtree.select (monk2a53, m.attributes[2], 2)\n",
    "print('Monk2 common a5=3 a3=2:', dtree.mostCommon(monk2a53a32))"
   ]
  },
  {
   "cell_type": "code",
   "execution_count": 23,
   "metadata": {},
   "outputs": [
    {
     "name": "stdout",
     "output_type": "stream",
     "text": [
      "m2a54infoGainA1: 0.0021990814192731634\n",
      "m2a54infoGainA2: 0.0495506808810926\n",
      "m2a54infoGainA3: 0.015800664888537264\n",
      "m2a54infoGainA4: 0.00303880905625753\n",
      "m2a54infoGainA6: 0.004250153146670432\n"
     ]
    }
   ],
   "source": [
    "# Subsetting monk2 if A5=4\n",
    "monk2a54 = dtree.select (m.monk2, m.attributes[4], 4)\n",
    "# If A5=4, calculate information gain form monk2a54\n",
    "print('m2a54infoGainA1:', dtree.averageGain(monk2a54, m.attributes[0]))\n",
    "print('m2a54infoGainA2:', dtree.averageGain(monk2a54, m.attributes[1]))\n",
    "print('m2a54infoGainA3:', dtree.averageGain(monk2a54, m.attributes[2]))\n",
    "print('m2a54infoGainA4:', dtree.averageGain(monk2a54, m.attributes[3]))\n",
    "print('m2a54infoGainA6:', dtree.averageGain(monk2a54, m.attributes[5]))"
   ]
  },
  {
   "cell_type": "code",
   "execution_count": 24,
   "metadata": {},
   "outputs": [
    {
     "name": "stdout",
     "output_type": "stream",
     "text": [
      "Monk2 common a5=4 a2=1: False\n",
      "Monk2 common a5=4 a2=2: False\n",
      "Monk2 common a5=4 a2=3: False\n"
     ]
    }
   ],
   "source": [
    "# If A5=4 then split data monk2a54 based on A2\n",
    "# A2=1\n",
    "monk2a54a21 = dtree.select (monk2a54, m.attributes[1], 1)\n",
    "print('Monk2 common a5=4 a2=1:', dtree.mostCommon(monk2a54a21))\n",
    "# A2=2\n",
    "monk2a54a22 = dtree.select (monk2a54, m.attributes[1], 2)\n",
    "print('Monk2 common a5=4 a2=2:', dtree.mostCommon(monk2a54a22))\n",
    "# A2=3\n",
    "monk2a54a23 = dtree.select (monk2a54, m.attributes[1], 3)\n",
    "print('Monk2 common a5=4 a2=3:', dtree.mostCommon(monk2a54a23))"
   ]
  },
  {
   "cell_type": "code",
   "execution_count": 25,
   "metadata": {},
   "outputs": [
    {
     "data": {
      "text/plain": [
       "A5(A3(-+)A3(+-)A3(--)A2(---))"
      ]
     },
     "execution_count": 25,
     "metadata": {},
     "output_type": "execute_result"
    }
   ],
   "source": [
    "# Check using buildTree function\n",
    "tree2 = dtree.buildTree (m.monk2, m.attributes, maxdepth=2)\n",
    "tree2"
   ]
  },
  {
   "cell_type": "code",
   "execution_count": 26,
   "metadata": {},
   "outputs": [
    {
     "name": "stdout",
     "output_type": "stream",
     "text": [
      "Entropy monk3: 0.9998061328047111\n",
      "m3infoGainA1: 0.007120868396071844\n",
      "m3infoGainA2: 0.29373617350838865\n",
      "m3infoGainA3: 0.0008311140445336207\n",
      "m3infoGainA4: 0.002891817288654397\n",
      "m3infoGainA5: 0.25591172461972755\n",
      "m3infoGainA6: 0.007077026074097326\n",
      "The 1st node = A2\n",
      "----------------\n",
      "m3a21infoGainA1: 0.0014803342370699468\n",
      "m3a21infoGainA3: 0.0009835833945809336\n",
      "m3a21infoGainA4: 0.05006417988571066\n",
      "m3a21infoGainA5: 0.8182923845701274\n",
      "m3a21infoGainA6: 0.00096255935171774\n",
      "If A2=1, the 2nd node = A5\n",
      "----\n",
      "Monk3 common a2=1 a5=1: True\n",
      "Monk3 common a2=1 a5=2: True\n",
      "Monk3 common a2=1 a5=3: True\n",
      "Monk3 common a2=1 a5=4: False\n",
      "----------------\n",
      "m3a22infoGainA1: 0.05072904492097652\n",
      "m3a22infoGainA3: 0.03450469098229414\n",
      "m3a22infoGainA4: 0.021035461697778257\n",
      "m3a22infoGainA5: 0.4767141549765385\n",
      "m3a22infoGainA6: 0.026506943765137958\n",
      "If A2=2, the 2nd node = A5\n",
      "----\n",
      "Monk3 common a2=2 a5=1: True\n",
      "Monk3 common a2=2 a5=2: True\n",
      "Monk3 common a2=2 a5=3: True\n",
      "Monk3 common a2=2 a5=4: False\n",
      "----------------\n",
      "m3a23infoGainA1: 0.048849456175533434\n",
      "m3a23infoGainA3: 0.08604302251358681\n",
      "m3a23infoGainA4: 0.12168696523631695\n",
      "m3a23infoGainA5: 0.08044917131230456\n",
      "m3a23infoGainA6: 0.003965676453217437\n",
      "If A2=3, the 2nd node = A4\n",
      "----\n",
      "Monk3 common a2=3 a4=1: False\n",
      "Monk3 common a2=3 a4=2: False\n",
      "Monk3 common a2=3 a4=3: False\n"
     ]
    }
   ],
   "source": [
    "# Monk3\n",
    "print('Entropy monk3:', dtree.entropy(m.monk3))\n",
    "print('m3infoGainA1:', dtree.averageGain(m.monk3, m.attributes[0]))\n",
    "print('m3infoGainA2:', dtree.averageGain(m.monk3, m.attributes[1]))\n",
    "print('m3infoGainA3:', dtree.averageGain(m.monk3, m.attributes[2]))\n",
    "print('m3infoGainA4:', dtree.averageGain(m.monk3, m.attributes[3]))\n",
    "print('m3infoGainA5:', dtree.averageGain(m.monk3, m.attributes[4]))\n",
    "print('m3infoGainA6:', dtree.averageGain(m.monk3, m.attributes[5]))\n",
    "print('The 1st node = A2')\n",
    "print('----------------')\n",
    "\n",
    "# Subsetting monk3 if A2=1\n",
    "monk3a21 = dtree.select (m.monk3, m.attributes[1], 1)\n",
    "\n",
    "# If a2 = 1, calculate information gain for monk3a21\n",
    "print('m3a21infoGainA1:', dtree.averageGain(monk3a21, m.attributes[0]))\n",
    "print('m3a21infoGainA3:', dtree.averageGain(monk3a21, m.attributes[2]))\n",
    "print('m3a21infoGainA4:', dtree.averageGain(monk3a21, m.attributes[3]))\n",
    "print('m3a21infoGainA5:', dtree.averageGain(monk3a21, m.attributes[4]))\n",
    "print('m3a21infoGainA6:', dtree.averageGain(monk3a21, m.attributes[5]))\n",
    "print('If A2=1, the 2nd node = A5')\n",
    "print('----')\n",
    "\n",
    "# If A2=1 then split data monk3a21 based on A5\n",
    "# A5=1\n",
    "monk3a21a51 = dtree.select (monk3a21, m.attributes[4], 1)\n",
    "print('Monk3 common a2=1 a5=1:', dtree.mostCommon(monk3a21a51))\n",
    "# A5=2\n",
    "monk3a21a52 = dtree.select (monk3a21, m.attributes[4], 2)\n",
    "print('Monk3 common a2=1 a5=2:', dtree.mostCommon(monk3a21a52))\n",
    "# A5=3\n",
    "monk3a21a53 = dtree.select (monk3a21, m.attributes[4], 3)\n",
    "print('Monk3 common a2=1 a5=3:', dtree.mostCommon(monk3a21a53))\n",
    "# A5=4\n",
    "monk3a21a54 = dtree.select (monk3a21, m.attributes[4], 4)\n",
    "print('Monk3 common a2=1 a5=4:', dtree.mostCommon(monk3a21a54))\n",
    "print('----------------')\n",
    "\n",
    "\n",
    "# Subsetting monk3 if A2=2\n",
    "monk3a22 = dtree.select (m.monk3, m.attributes[1], 2)\n",
    "\n",
    "# If a2 = 2, calculate information gain for monk3a22\n",
    "print('m3a22infoGainA1:', dtree.averageGain(monk3a22, m.attributes[0]))\n",
    "print('m3a22infoGainA3:', dtree.averageGain(monk3a22, m.attributes[2]))\n",
    "print('m3a22infoGainA4:', dtree.averageGain(monk3a22, m.attributes[3]))\n",
    "print('m3a22infoGainA5:', dtree.averageGain(monk3a22, m.attributes[4]))\n",
    "print('m3a22infoGainA6:', dtree.averageGain(monk3a22, m.attributes[5]))\n",
    "print('If A2=2, the 2nd node = A5')\n",
    "print('----')\n",
    "\n",
    "# If A2=2 then split data monk3a22 based on A5\n",
    "# A5=1\n",
    "monk3a22a51 = dtree.select (monk3a22, m.attributes[4], 1)\n",
    "print('Monk3 common a2=2 a5=1:', dtree.mostCommon(monk3a22a51))\n",
    "# A5=2\n",
    "monk3a22a52 = dtree.select (monk3a22, m.attributes[4], 2)\n",
    "print('Monk3 common a2=2 a5=2:', dtree.mostCommon(monk3a22a52))\n",
    "# A5=3\n",
    "monk3a22a53 = dtree.select (monk3a22, m.attributes[4], 3)\n",
    "print('Monk3 common a2=2 a5=3:', dtree.mostCommon(monk3a22a53))\n",
    "# A5=4\n",
    "monk3a22a54 = dtree.select (monk3a22, m.attributes[4], 4)\n",
    "print('Monk3 common a2=2 a5=4:', dtree.mostCommon(monk3a22a54))\n",
    "print('----------------')\n",
    "\n",
    "# Subsetting monk3 if A2=3\n",
    "monk3a23 = dtree.select (m.monk3, m.attributes[1], 3)\n",
    "# If a2 = 3, calculate information gain for monk3a23\n",
    "print('m3a23infoGainA1:', dtree.averageGain(monk3a23, m.attributes[0]))\n",
    "print('m3a23infoGainA3:', dtree.averageGain(monk3a23, m.attributes[2]))\n",
    "print('m3a23infoGainA4:', dtree.averageGain(monk3a23, m.attributes[3]))\n",
    "print('m3a23infoGainA5:', dtree.averageGain(monk3a23, m.attributes[4]))\n",
    "print('m3a23infoGainA6:', dtree.averageGain(monk3a23, m.attributes[5]))\n",
    "print('If A2=3, the 2nd node = A4')\n",
    "print('----')\n",
    "\n",
    "# If A2=3 then split data monk3a23 based on A4\n",
    "# A4=1\n",
    "monk3a23a41 = dtree.select (monk3a23, m.attributes[3], 1)\n",
    "print('Monk3 common a2=3 a4=1:', dtree.mostCommon(monk3a23a41))\n",
    "# A4=2\n",
    "monk3a23a42 = dtree.select (monk3a23, m.attributes[3], 2)\n",
    "print('Monk3 common a2=3 a4=2:', dtree.mostCommon(monk3a23a42))\n",
    "# A4=3\n",
    "monk3a23a43 = dtree.select (monk3a23, m.attributes[3], 3)\n",
    "print('Monk3 common a2=3 a4=3:', dtree.mostCommon(monk3a23a43))\n"
   ]
  },
  {
   "cell_type": "code",
   "execution_count": 27,
   "metadata": {},
   "outputs": [
    {
     "data": {
      "text/plain": [
       "A2(A5(+++-)A5(+++-)A4(---))"
      ]
     },
     "execution_count": 27,
     "metadata": {},
     "output_type": "execute_result"
    }
   ],
   "source": [
    "# Building tree3 using function buildTree\n",
    "tree3 = dtree.buildTree (m.monk3, m.attributes, maxdepth=2)\n",
    "tree3"
   ]
  },
  {
   "cell_type": "code",
   "execution_count": 28,
   "metadata": {},
   "outputs": [
    {
     "name": "stdout",
     "output_type": "stream",
     "text": [
      "Error Train Monk1: 0.0\n",
      "Error Test Monk1: 0.17129629629629628\n",
      "----\n",
      "Error Train Monk2: 0.0\n",
      "Error Test Monk2: 0.30787037037037035\n",
      "----\n",
      "Error Train Monk3: 0.0\n",
      "Error Test Monk3: 0.05555555555555558\n"
     ]
    }
   ],
   "source": [
    "# Calculating error for Training and Test data\n",
    "tree1full = dtree.buildTree (m.monk1, m.attributes)\n",
    "print('Error Train Monk1:', 1-dtree.check(tree1full, m.monk1))\n",
    "print('Error Test Monk1:', 1-dtree.check(tree1full, m.monk1test))\n",
    "print('----')\n",
    "tree2full = dtree.buildTree (m.monk2, m.attributes)\n",
    "print('Error Train Monk2:', 1-dtree.check(tree2full, m.monk2))\n",
    "print('Error Test Monk2:', 1-dtree.check(tree2full, m.monk2test))\n",
    "print('----')\n",
    "tree3full = dtree.buildTree (m.monk3, m.attributes)\n",
    "print('Error Train Monk3:', 1-dtree.check(tree3full, m.monk3))\n",
    "print('Error Test Monk3:', 1-dtree.check(tree3full, m.monk3test))"
   ]
  },
  {
   "cell_type": "code",
   "execution_count": 29,
   "metadata": {},
   "outputs": [
    {
     "name": "stdout",
     "output_type": "stream",
     "text": [
      "A5(+A3(A1(-A2(-++)+)-)A6(A2(A1(+--)--)A4(A1(+A2(-+-)A2(--+))A1(-++)+))A1(A2(+--)A2(-+-)A2(+-+)))\n",
      "Precision tree1 full = 0.78\n",
      "-----\n",
      "Monk1 tree 1 +\n",
      "Error subtree 1 = 0.46\n",
      "Monk1 tree 2 A5(+-A6(A2(A1(+--)--)A4(A1(+A2(-+-)A2(--+))A1(-++)+))A1(A2(+--)A2(-+-)A2(+-+)))\n",
      "Error subtree 2 = 0.8\n",
      "Monk1 tree 3 A5(+A3(--)A6(A2(A1(+--)--)A4(A1(+A2(-+-)A2(--+))A1(-++)+))A1(A2(+--)A2(-+-)A2(+-+)))\n",
      "Error subtree 3 = 0.8\n",
      "Monk1 tree 4 A5(+A3(A1(-++)-)A6(A2(A1(+--)--)A4(A1(+A2(-+-)A2(--+))A1(-++)+))A1(A2(+--)A2(-+-)A2(+-+)))\n",
      "Error subtree 4 = 0.78\n",
      "Monk1 tree 5 A5(+A3(A1(-A2(-++)+)-)-A1(A2(+--)A2(-+-)A2(+-+)))\n",
      "Error subtree 5 = 0.82\n",
      "Monk1 tree 6 A5(+A3(A1(-A2(-++)+)-)A6(-A4(A1(+A2(-+-)A2(--+))A1(-++)+))A1(A2(+--)A2(-+-)A2(+-+)))\n",
      "Error subtree 6 = 0.76\n",
      "Monk1 tree 7 A5(+A3(A1(-A2(-++)+)-)A6(A2(---)A4(A1(+A2(-+-)A2(--+))A1(-++)+))A1(A2(+--)A2(-+-)A2(+-+)))\n",
      "Error subtree 7 = 0.76\n",
      "Monk1 tree 8 A5(+A3(A1(-A2(-++)+)-)A6(A2(A1(+--)--)+)A1(A2(+--)A2(-+-)A2(+-+)))\n",
      "Error subtree 8 = 0.74\n",
      "Monk1 tree 9 A5(+A3(A1(-A2(-++)+)-)A6(A2(A1(+--)--)A4(+A1(-++)+))A1(A2(+--)A2(-+-)A2(+-+)))\n",
      "Error subtree 9 = 0.76\n",
      "Monk1 tree 10 A5(+A3(A1(-A2(-++)+)-)A6(A2(A1(+--)--)A4(A1(+-A2(--+))A1(-++)+))A1(A2(+--)A2(-+-)A2(+-+)))\n",
      "Error subtree 10 = 0.78\n",
      "Monk1 tree 11 A5(+A3(A1(-A2(-++)+)-)A6(A2(A1(+--)--)A4(A1(+A2(-+-)-)A1(-++)+))A1(A2(+--)A2(-+-)A2(+-+)))\n",
      "Error subtree 11 = 0.78\n",
      "Monk1 tree 12 A5(+A3(A1(-A2(-++)+)-)A6(A2(A1(+--)--)A4(A1(+A2(-+-)A2(--+))-+))A1(A2(+--)A2(-+-)A2(+-+)))\n",
      "Error subtree 12 = 0.8\n",
      "Monk1 tree 13 A5(+A3(A1(-A2(-++)+)-)A6(A2(A1(+--)--)A4(A1(+A2(-+-)A2(--+))A1(-++)+))-)\n",
      "Error subtree 13 = 0.7\n",
      "Monk1 tree 14 A5(+A3(A1(-A2(-++)+)-)A6(A2(A1(+--)--)A4(A1(+A2(-+-)A2(--+))A1(-++)+))A1(-A2(-+-)A2(+-+)))\n",
      "Error subtree 14 = 0.78\n",
      "Monk1 tree 15 A5(+A3(A1(-A2(-++)+)-)A6(A2(A1(+--)--)A4(A1(+A2(-+-)A2(--+))A1(-++)+))A1(A2(+--)-A2(+-+)))\n",
      "Error subtree 15 = 0.74\n",
      "Monk1 tree 16 A5(+A3(A1(-A2(-++)+)-)A6(A2(A1(+--)--)A4(A1(+A2(-+-)A2(--+))A1(-++)+))A1(A2(+--)A2(-+-)+))\n",
      "Error subtree 16 = 0.74\n"
     ]
    }
   ],
   "source": [
    "monk1train, monk1val = partition(m.monk1, 0.6)\n",
    "tree1 = dtree.buildTree (monk1train, m.attributes)\n",
    "precision1 = dtree.check(tree1, monk1val)\n",
    "print(tree1)\n",
    "print ('Precision tree1 full =', precision1)\n",
    "print('-----')\n",
    "prune1 = dtree.allPruned (tree1)\n",
    "tree=0\n",
    "for i in prune1:\n",
    "    tree+=1\n",
    "    a= dtree.check(i, monk1val)\n",
    "    #if a>= precision1:\n",
    "    print('Monk1 tree', tree, i)\n",
    "    print('Error subtree', tree, '=', a)\n",
    "# Need to repeat many times then calculate mean error and SD for each fraction\n",
    "# then plot that the error = f(fraction) with mean and SD"
   ]
  },
  {
   "cell_type": "code",
   "execution_count": 30,
   "metadata": {},
   "outputs": [],
   "source": [
    "def errorBestPruned (dataset, testset, fraction, attributes):\n",
    "    dttrain, dtval = partition(dataset, fraction)\n",
    "    tree = dtree.buildTree (dttrain, attributes)\n",
    "    accuracyFull = dtree.check(tree, dtval)\n",
    "    prune1 = dtree.allPruned (tree)\n",
    "    bestAccuracy = accuracyFull\n",
    "    bestsubtree=tree\n",
    "    for i in prune1:\n",
    "        a1 = dtree.check(i, dtval)\n",
    "        if a1>bestAccuracy:\n",
    "            bestAccuracy = a1\n",
    "            bestsubtree= i\n",
    "    accuracyTest = dtree.check(bestsubtree, testset)\n",
    "    return (1-accuracyTest)\n",
    "\n",
    "def repeatPartition (dataset, testset, fraction, attributes, times):\n",
    "    total =0\n",
    "    allerror = []\n",
    "    for i in range(times): \n",
    "        allerror.append(errorBestPruned(dataset, testset, fraction, attributes))\n",
    "        total += allerror [i]\n",
    "    mean= total/times\n",
    "    sd=0\n",
    "    for member in allerror:\n",
    "        sd+= (member-mean)**2\n",
    "    sd=(math.sqrt(sd))/(times-1)\n",
    "    #lower = mean-1.96*sd\n",
    "    #upper = mean+1.96*sd\n",
    "    return mean, sd\n",
    "\n",
    "fraction = [0.1, 0.2, 0.3, 0.4, 0.5, 0.6, 0.7, 0.8, 0.9]\n",
    "def optimiseFraction(dataset, testset, attributes, times):\n",
    "    all_errors = []\n",
    "    all_sds = []\n",
    "    for number in fraction:\n",
    "        mean_value, sd_value = repeatPartition(dataset, testset, number, attributes, times)\n",
    "        all_errors.append(mean_value)\n",
    "        all_sds.append(sd_value)\n",
    "    return all_errors, all_sds"
   ]
  },
  {
   "cell_type": "code",
   "execution_count": 57,
   "metadata": {},
   "outputs": [],
   "source": [
    "list_errors1, list_sds1 = optimiseFraction (m.monk1, m.monk1test, m.attributes, 1000)"
   ]
  },
  {
   "cell_type": "code",
   "execution_count": 58,
   "metadata": {},
   "outputs": [
    {
     "data": {
      "text/plain": [
       "[0.3421828703703697,\n",
       " 0.2728796296296293,\n",
       " 0.23165509259259326,\n",
       " 0.20519212962963004,\n",
       " 0.18129861111111142,\n",
       " 0.16322453703703718,\n",
       " 0.14832638888888874,\n",
       " 0.13844907407407406,\n",
       " 0.13709259259259254]"
      ]
     },
     "execution_count": 58,
     "metadata": {},
     "output_type": "execute_result"
    }
   ],
   "source": [
    "list_errors1"
   ]
  },
  {
   "cell_type": "code",
   "execution_count": 59,
   "metadata": {},
   "outputs": [
    {
     "data": {
      "text/plain": [
       "[0.0026145275650050277,\n",
       " 0.0016606620422589926,\n",
       " 0.0013823578366577941,\n",
       " 0.0014380143095746858,\n",
       " 0.0015034668434597144,\n",
       " 0.0015055542865252457,\n",
       " 0.0015410217860205781,\n",
       " 0.0014530983663479918,\n",
       " 0.0014493319032221872]"
      ]
     },
     "execution_count": 59,
     "metadata": {},
     "output_type": "execute_result"
    }
   ],
   "source": [
    "list_sds1"
   ]
  },
  {
   "cell_type": "code",
   "execution_count": 60,
   "metadata": {},
   "outputs": [
    {
     "data": {
      "text/plain": [
       "Text(0.5, 1.0, 'Effect of fraction on prediction error - Monk 1')"
      ]
     },
     "execution_count": 60,
     "metadata": {},
     "output_type": "execute_result"
    },
    {
     "data": {
      "image/png": "[encoded data removed]",
      "text/plain": [
       "<Figure size 504x288 with 1 Axes>"
      ]
     },
     "metadata": {
      "needs_background": "light"
     },
     "output_type": "display_data"
    }
   ],
   "source": [
    "x = np.array(fraction)\n",
    "y= np.array(list_errors1)\n",
    "e= np.array(list_sds1)\n",
    "\n",
    "fig, ax = plt.subplots(figsize=(7, 4))\n",
    "ax.errorbar(x, y, yerr=2*e, linestyle='None', marker='o', label = 'Mean error +- 2SD over 100 samples', color='red')\n",
    "ax.set_xlabel('Fraction', labelpad=None, size=12, fontname='Arial')\n",
    "ax.set_ylabel(\"Error\", size=12,fontname='Arial')\n",
    "ax.legend(loc = 1)\n",
    "ax.set_title('Effect of fraction on prediction error - Monk 1', size=14, fontweight='bold', fontname='Arial')\n",
    "#plt.show()"
   ]
  },
  {
   "cell_type": "code",
   "execution_count": 61,
   "metadata": {},
   "outputs": [],
   "source": [
    "list_errors3, list_sds3 = optimiseFraction (m.monk3, m.monk3test, m.attributes, 1000)"
   ]
  },
  {
   "cell_type": "code",
   "execution_count": 62,
   "metadata": {},
   "outputs": [
    {
     "data": {
      "text/plain": [
       "[0.2689814814814823,\n",
       " 0.14923611111111112,\n",
       " 0.09203240740740738,\n",
       " 0.0715208333333335,\n",
       " 0.061250000000000214,\n",
       " 0.0555138888888891,\n",
       " 0.05401388888888903,\n",
       " 0.052675925925926126,\n",
       " 0.05975925925925978]"
      ]
     },
     "execution_count": 62,
     "metadata": {},
     "output_type": "execute_result"
    }
   ],
   "source": [
    "list_errors3"
   ]
  },
  {
   "cell_type": "code",
   "execution_count": 63,
   "metadata": {},
   "outputs": [
    {
     "data": {
      "text/plain": [
       "[0.0032539529386565904,\n",
       " 0.002660147301705857,\n",
       " 0.0018039395837018365,\n",
       " 0.0013319466015140416,\n",
       " 0.0011245764910782468,\n",
       " 0.0010072401624672592,\n",
       " 0.0009424161732262161,\n",
       " 0.0009449707948673746,\n",
       " 0.0009359094829010976]"
      ]
     },
     "execution_count": 63,
     "metadata": {},
     "output_type": "execute_result"
    }
   ],
   "source": [
    "list_sds3"
   ]
  },
  {
   "cell_type": "code",
   "execution_count": 64,
   "metadata": {},
   "outputs": [
    {
     "data": {
      "text/plain": [
       "Text(0.5, 1.0, 'Effect of fraction on prediction error - Monk 3')"
      ]
     },
     "execution_count": 64,
     "metadata": {},
     "output_type": "execute_result"
    },
    {
     "data": {
      "image/png": "[encoded data removed]",
      "text/plain": [
       "<Figure size 504x288 with 1 Axes>"
      ]
     },
     "metadata": {
      "needs_background": "light"
     },
     "output_type": "display_data"
    }
   ],
   "source": [
    "x = np.array(fraction)\n",
    "y= np.array(list_errors3)\n",
    "e= np.array(list_sds3)\n",
    "\n",
    "fig, ax = plt.subplots(figsize=(7, 4))\n",
    "ax.errorbar(x, y, yerr=2*e, linestyle='None', marker='o', label='Mean error +- 2SD over 100 samples', color='blue')\n",
    "ax.set_xlabel('Fraction', labelpad=None, size=12, fontname='Arial')\n",
    "ax.set_ylabel(\"Error\", size=12,fontname='Arial')\n",
    "ax.legend(loc = 1)\n",
    "ax.set_title('Effect of fraction on prediction error - Monk 3', size=14, fontweight='bold', fontname='Arial')"
   ]
  },
  {
   "cell_type": "code",
   "execution_count": 65,
   "metadata": {},
   "outputs": [],
   "source": [
    "def entro (p1, p2, p3, p4, p5, p6):\n",
    "    e = (-p1*math.log2(p1)-p2*math.log2(p2)-p3*math.log2(p3)-p4*math.log2(p4)-p5*math.log2(p5)-p6*math.log2(p6))\n",
    "    return e"
   ]
  },
  {
   "cell_type": "code",
   "execution_count": 66,
   "metadata": {},
   "outputs": [
    {
     "data": {
      "text/plain": [
       "2.4591479170272446"
      ]
     },
     "execution_count": 66,
     "metadata": {},
     "output_type": "execute_result"
    }
   ],
   "source": [
    "entro(1/12,2/12,3/12,3/12,2/12,1/12)"
   ]
  },
  {
   "cell_type": "code",
   "execution_count": 55,
   "metadata": {},
   "outputs": [
    {
     "data": {
      "text/plain": [
       "2.584962500721156"
      ]
     },
     "execution_count": 55,
     "metadata": {},
     "output_type": "execute_result"
    }
   ],
   "source": [
    "entro(2/12,2/12,2/12,2/12,2/12,2/12)"
   ]
  },
  {
   "cell_type": "code",
   "execution_count": 56,
   "metadata": {},
   "outputs": [
    {
     "data": {
      "text/plain": [
       "2.1258145836939115"
      ]
     },
     "execution_count": 56,
     "metadata": {},
     "output_type": "execute_result"
    }
   ],
   "source": [
    "entro(6/12,1/12,1/12,1/12,1/12,2/12)"
   ]
  },
  {
   "cell_type": "code",
   "execution_count": null,
   "metadata": {},
   "outputs": [],
   "source": []
  },
  {
   "cell_type": "code",
   "execution_count": null,
   "metadata": {},
   "outputs": [],
   "source": []
  }
 ],
 "metadata": {
  "kernelspec": {
   "display_name": "Python 3",
   "language": "python",
   "name": "python3"
  },
  "language_info": {
   "codemirror_mode": {
    "name": "ipython",
    "version": 3
   },
   "file_extension": ".py",
   "mimetype": "text/x-python",
   "name": "python",
   "nbconvert_exporter": "python",
   "pygments_lexer": "ipython3",
   "version": "3.7.1"
  }
 },
 "nbformat": 4,
 "nbformat_minor": 2
}
