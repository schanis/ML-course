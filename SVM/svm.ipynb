{
 "cells": [
  {
   "cell_type": "code",
   "execution_count": 1,
   "metadata": {},
   "outputs": [],
   "source": [
    "import numpy, random, math\n",
    "from scipy.optimize import minimize\n",
    "from scipy.spatial import distance\n",
    "import matplotlib.pyplot as plt"
   ]
  },
  {
   "cell_type": "code",
   "execution_count": 2,
   "metadata": {},
   "outputs": [],
   "source": [
    "numpy.random.seed(100)\n",
    "classA = numpy.concatenate(\n",
    "    (numpy.random.randn(10,2) * 0.2+[1.5, 0.5],\n",
    "    numpy.random.randn(10,2) * 0.2+[-1.5, 0.5]))\n",
    "\n",
    "#classB = numpy.concatenate(\n",
    "#    (numpy.random.randn(10,2) * 0.2+[0.0, -0.5],\n",
    "#    numpy.random.randn(10,2) * 0.2+[0.0, 0.5]))\n",
    "\n",
    "classB = numpy.random.randn(20,2) * 0.2+[0.0, -0.5]\n",
    "\n",
    "inputs = numpy.concatenate((classA, classB))\n",
    "targets = numpy.concatenate((numpy.ones(classA.shape[0]), -numpy.ones(classB.shape[0])))\n",
    "\n",
    "N = inputs.shape[0] # number of rows /samples\n",
    "\n",
    "permute = list(range(N))\n",
    "random.shuffle(permute)\n",
    "inputs = inputs[permute, :]\n",
    "target = targets[permute]"
   ]
  },
  {
   "cell_type": "code",
   "execution_count": 3,
   "metadata": {},
   "outputs": [],
   "source": [
    "#A suitable kernel function\n",
    "#The kernel function takes two data points as arguments and returns a\n",
    "#“scalar product-like” similarity measure; a scalar value. Start with the\n",
    "#linear kernel which is the same as an ordinary scalar product, but also\n",
    "#explore the other kernels in section 3.3.\n",
    "\n",
    "def linearK(vector1, vector2):\n",
    "    return numpy.dot(vector1, vector2)\n",
    "\n",
    "def polynomialK(vector1, vector2):\n",
    "    result = (numpy.dot(vector1, vector2)+1)**5\n",
    "    return result\n",
    "u=0.5\n",
    "def rbfK(vector1, vector2):\n",
    "    dis = distance.euclidean(vector1, vector2)\n",
    "    power = (-1*dis)/(2*(u**2))\n",
    "    return math.e**power\n",
    "\n",
    "Kernel = linearK"
   ]
  },
  {
   "cell_type": "code",
   "execution_count": 4,
   "metadata": {},
   "outputs": [],
   "source": [
    "data = numpy.zeros(shape=(40,40))\n",
    "for i in range(len(inputs)):\n",
    "    for j in range(len(inputs)):\n",
    "        data[i][j] = target[i]*target[j]*Kernel(inputs[i],inputs[j])"
   ]
  },
  {
   "cell_type": "code",
   "execution_count": 5,
   "metadata": {},
   "outputs": [],
   "source": [
    "#Implement the function objective\n",
    "\n",
    "def objective(vector):\n",
    "    a = numpy.sum(vector)\n",
    "    #total = float\n",
    "    #counter = 0    \n",
    "#    for i in vector:\n",
    "#        total + = numpy.dot(vector, data)\n",
    "#        counter +=1\n",
    "    total = numpy.dot(vector, data)\n",
    "    print(total)\n",
    "    print(type(total))\n",
    "    total = numpy.sum(total)\n",
    "    return total/2-a\n",
    "    \n",
    "def objective2(vector):\n",
    "    temp = 0\n",
    "    a = numpy.sum (vector)\n",
    "    for i in range(N):\n",
    "        for j in range(N):\n",
    "            temp += vector [i] * vector[j] * data[i,j]\n",
    "    return temp/2-a\n",
    "#x_j, t_j and alpha_j are the j:th datapoint/feature vector, the j:th label, and the j:th alpha value, respectively.\n",
    "            \n",
    "\n",
    "#The first term of equation (4) would then be 0.5 multiplied by the sum of all elements of the matrix of \n",
    "#np.outer( t*alpha, (t*alpha).T ) * ker(x), where ker is some kernel function and x is the matrix of the feature vectors.\n"
   ]
  },
  {
   "cell_type": "code",
   "execution_count": 6,
   "metadata": {},
   "outputs": [],
   "source": [
    "#Implement the function zerofun\n",
    "#This function should implement the equality constraint of (10). Also here,\n",
    "#you can make use of numpy.dot to be efficient.\n",
    "def zerofun(vector):\n",
    "    return numpy.dot(vector, target)"
   ]
  },
  {
   "cell_type": "code",
   "execution_count": 7,
   "metadata": {},
   "outputs": [],
   "source": [
    "XC = {'type':'eq', 'fun':zerofun}"
   ]
  },
  {
   "cell_type": "code",
   "execution_count": 8,
   "metadata": {},
   "outputs": [],
   "source": [
    "C = None\n",
    "start = numpy.zeros(N) \n",
    "B = [(0, C) for b in start]"
   ]
  },
  {
   "cell_type": "code",
   "execution_count": 9,
   "metadata": {},
   "outputs": [
    {
     "name": "stdout",
     "output_type": "stream",
     "text": [
      "[0.00000000e+00 5.60168331e-15 0.00000000e+00 0.00000000e+00\n",
      " 0.00000000e+00 0.00000000e+00 0.00000000e+00 0.00000000e+00\n",
      " 1.20410342e+01 1.66652405e-14 0.00000000e+00 1.42238619e-14\n",
      " 0.00000000e+00 9.83637187e-15 0.00000000e+00 0.00000000e+00\n",
      " 0.00000000e+00 5.57430938e-16 0.00000000e+00 1.98501475e-14\n",
      " 0.00000000e+00 0.00000000e+00 7.89022186e+00 0.00000000e+00\n",
      " 3.04542149e-14 0.00000000e+00 0.00000000e+00 2.26995350e-14\n",
      " 0.00000000e+00 0.00000000e+00 0.00000000e+00 0.00000000e+00\n",
      " 4.15081239e+00 2.61621712e-15 0.00000000e+00 0.00000000e+00\n",
      " 0.00000000e+00 9.59739237e-16 1.09368403e-14 0.00000000e+00]\n",
      "True\n",
      "True\n",
      "23\n"
     ]
    }
   ],
   "source": [
    "ret = minimize (objective2, start, bounds=B, constraints=XC)\n",
    "alpha = ret.x\n",
    "print(alpha)\n",
    "result = ret[\"success\"]\n",
    "print(result)\n",
    "#ret.hess_inv\n",
    "print(ret.success)\n",
    "print(ret.nit)"
   ]
  },
  {
   "cell_type": "code",
   "execution_count": 10,
   "metadata": {},
   "outputs": [],
   "source": [
    "a_list = []\n",
    "x_list = []\n",
    "t_list = []\n",
    "threshold = 10**(-5)\n",
    "for i in range(len(alpha)):\n",
    "    #print(alpha[i])\n",
    "    if alpha[i] >= threshold:\n",
    "        a_list.append(alpha[i])\n",
    "        x_list.append(inputs[i])\n",
    "        t_list.append(target[i])"
   ]
  },
  {
   "cell_type": "code",
   "execution_count": 11,
   "metadata": {},
   "outputs": [
    {
     "name": "stdout",
     "output_type": "stream",
     "text": [
      "[12.041034249800619, 7.890221856949874, 4.150812392850712]\n"
     ]
    }
   ],
   "source": [
    "print(a_list)"
   ]
  },
  {
   "cell_type": "code",
   "execution_count": 12,
   "metadata": {},
   "outputs": [],
   "source": [
    "#Calculate the b value using equation (7). Note that you must use a point on the margin. This corresponds to a\n",
    "#point with an \u000b",
    "-value larger than zero, but less than C (if slack is used).\n",
    "\n",
    "#support_vector = []\n",
    "#for i in range(len(a_list)):  #fidning a point with alpha less than C\n",
    "#    if C != None and a_list[i]<C:\n",
    "#        support_vector = x_list[i]\n",
    "#        break\n",
    "support_vector = x_list[0]        \n",
    "bias = 0  \n",
    "for i in range(len(a_list)):\n",
    "    k = Kernel(support_vector, x_list[i])\n",
    "    temp = a_list[i]*t_list[i]*k\n",
    "    temp = temp.item()\n",
    "    bias += temp\n",
    "bias = bias - t_list[0]   "
   ]
  },
  {
   "cell_type": "code",
   "execution_count": 13,
   "metadata": {},
   "outputs": [],
   "source": [
    "#Implement the indicator function\n",
    "def indicator(new_1, new_2):\n",
    "    temp = 0\n",
    "    for i in range(len(a_list)):\n",
    "        temp += a_list[i]*t_list[i]*Kernel(numpy.array([new_1, new_2]), x_list[i])\n",
    "    result = temp - bias\n",
    "    return result"
   ]
  },
  {
   "cell_type": "code",
   "execution_count": 14,
   "metadata": {},
   "outputs": [
    {
     "data": {
      "text/plain": [
       "Text(0.5, 1.0, 'Linear kernel, N=40, C=2')"
      ]
     },
     "execution_count": 14,
     "metadata": {},
     "output_type": "execute_result"
    },
    {
     "data": {
      "image/png": "[encoded data removed]",
      "text/plain": [
       "<Figure size 432x288 with 1 Axes>"
      ]
     },
     "metadata": {
      "needs_background": "light"
     },
     "output_type": "display_data"
    }
   ],
   "source": [
    "#6 Plotting\n",
    "plt.plot([p[0] for p in classA], \n",
    "         [p[1] for p in classA],\n",
    "         \"b.\")\n",
    "plt.plot([p[0] for p in classB], \n",
    "         [p[1] for p in classB], \n",
    "         \"r.\")\n",
    "#plt.axis(\"equal\") # Force same s c a l e on both axes\n",
    "#plt.savefig(\"svm1plot.pdf\") # Save a copy in a file\n",
    "#plt.show() # Show the plot on thescreen\n",
    "#Plotting the Decision Boundary\n",
    "xgrid = numpy.linspace(-5, 5)\n",
    "ygrid = numpy.linspace(-4, 4)\n",
    "grid = numpy.array([[indicator(x,y)\n",
    "                    for x in xgrid]\n",
    "                    for y in ygrid])\n",
    "plt.contour(xgrid, ygrid, grid,\n",
    "            (-1.0, 0.0, 1.0),\n",
    "            colors = (\"red\", \"black\", \"blue\"),\n",
    "            linewidths = (1, 2.5, 1))\n",
    "plt.title(\"Linear kernel, N=40, C=2\")"
   ]
  },
  {
   "cell_type": "code",
   "execution_count": null,
   "metadata": {},
   "outputs": [],
   "source": []
  }
 ],
 "metadata": {
  "kernelspec": {
   "display_name": "Python 3",
   "language": "python",
   "name": "python3"
  },
  "language_info": {
   "codemirror_mode": {
    "name": "ipython",
    "version": 3
   },
   "file_extension": ".py",
   "mimetype": "text/x-python",
   "name": "python",
   "nbconvert_exporter": "python",
   "pygments_lexer": "ipython3",
   "version": "3.7.1"
  }
 },
 "nbformat": 4,
 "nbformat_minor": 2
}
